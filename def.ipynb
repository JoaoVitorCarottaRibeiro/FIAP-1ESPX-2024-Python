{
 "cells": [
  {
   "cell_type": "code",
   "execution_count": null,
   "metadata": {},
   "outputs": [],
   "source": [
    "# Exercício 1 - soma de dois numeros\n",
    "\n",
    "def soma(x,y):\n",
    "    resultado = x + y\n",
    "    return resultado\n",
    "\n",
    "print(soma(10,5))"
   ]
  },
  {
   "cell_type": "code",
   "execution_count": null,
   "metadata": {},
   "outputs": [],
   "source": [
    "# Crie funções para fazer operações de soma, subtração, divisão e multiplicação.\n",
    "\n",
    "# Crie uma função para calcular a área de um quadrado, retangulo, círculo e triângulo.\n",
    "\n",
    "# Crie uma função para calcular o volume de um cubo.\n",
    "\n",
    "# Crie uma função para calcular a área de um terreno.\n",
    "\n",
    "# Crie uma função para retornar se um número é par ou impar."
   ]
  },
  {
   "cell_type": "code",
   "execution_count": null,
   "metadata": {},
   "outputs": [],
   "source": [
    "# Função de operações\n",
    "\n",
    "def soma(x,y):\n",
    "    resultado = x + y \n",
    "    return resultado\n",
    "\n",
    "def subtração(x,y):\n",
    "    resultado = x - y \n",
    "    return resultado\n",
    "\n",
    "def multiplicação(x,y):\n",
    "    resultado = x * y \n",
    "    return resultado\n",
    "\n",
    "def divisão(x,y):\n",
    "    resultado = x / y \n",
    "    return resultado"
   ]
  },
  {
   "cell_type": "code",
   "execution_count": null,
   "metadata": {},
   "outputs": [],
   "source": [
    "# Função de área\n",
    "\n",
    "def area_quadrado(x,y):\n",
    "    quadrado = x * y\n",
    "    return quadrado\n",
    "\n",
    "def area_circulo(x):\n",
    "    circulo = 3.14 * (x**2)\n",
    "    return circulo\n",
    "\n",
    "def area_triangulo(x,y):\n",
    "    triangulo = (x * y) / 2 \n",
    "    return triangulo"
   ]
  },
  {
   "cell_type": "code",
   "execution_count": null,
   "metadata": {},
   "outputs": [],
   "source": [
    "# Area de cubo\n",
    "\n",
    "def area_cubo(x):\n",
    "    cubo = x**3\n",
    "    return cubo"
   ]
  },
  {
   "cell_type": "code",
   "execution_count": null,
   "metadata": {},
   "outputs": [],
   "source": [
    "# Area de terreno\n",
    "\n",
    "def area_terreno(x, y):\n",
    "    terreno = x * y \n",
    "    return terreno"
   ]
  },
  {
   "cell_type": "code",
   "execution_count": null,
   "metadata": {},
   "outputs": [],
   "source": [
    "def par_impar(x):\n",
    "    if x % 2 == 0:\n",
    "        return 'Par'\n",
    "    else:\n",
    "        return 'Impar'\n",
    "    \n",
    "par_impar(13)"
   ]
  },
  {
   "cell_type": "code",
   "execution_count": null,
   "metadata": {},
   "outputs": [],
   "source": [
    "# Soma de valores de uma lista\n",
    "\n",
    "lista = [5,10,15,20,25,30]\n",
    "\n",
    "def soma(lista):\n",
    "    resultado = sum(lista)\n",
    "    return resultado\n",
    "\n",
    "soma(lista)"
   ]
  },
  {
   "cell_type": "code",
   "execution_count": null,
   "metadata": {},
   "outputs": [],
   "source": [
    "# Fazendo com for dentro da função\n",
    "\n",
    "lista = [5,10,15,20,25]\n",
    "\n",
    "def soma_lista(lista):\n",
    "    soma = 0\n",
    "    for k in lista:\n",
    "        soma += k \n",
    "    return soma\n",
    "\n",
    "soma_lista(lista)"
   ]
  },
  {
   "cell_type": "code",
   "execution_count": null,
   "metadata": {},
   "outputs": [],
   "source": [
    "# Calculo da chapa\n",
    "\n",
    "def calculo_chapa(a,b,c,d):\n",
    "    resultado_chapa = a * b * c * d\n",
    "    return resultado_chapa\n",
    "\n",
    "def calculo_tarugo(a,b,c)\n",
    "    resultado_tarugo = ((a**2 * 3.14 * b * c )/ 4000 )/ 1000"
   ]
  },
  {
   "cell_type": "code",
   "execution_count": null,
   "metadata": {},
   "outputs": [],
   "source": [
    "# Criar uma função com input para 5 valores\n",
    "\n",
    "\n",
    "def somar_solicitação(x):\n",
    "    lista = []\n",
    "    for k in range(5):\n",
    "        k = 0\n",
    "        k += 1\n",
    "        valor = int(input(\"Digite um valor:\"))\n",
    "        lista.append(valor)\n",
    "        soma = sum(lista)\n",
    "        media = sum(lista) / 5\n",
    "    return soma, media\n",
    "\n",
    "print(somar_solicitação(lista))"
   ]
  },
  {
   "cell_type": "code",
   "execution_count": null,
   "metadata": {},
   "outputs": [],
   "source": [
    "# Solicitar 3 salarios e criar um desconto para cada um\n",
    "\n",
    "def calcular_salario():\n",
    "    salario_original = []\n",
    "    desconto = []\n",
    "    salario_descontado = []\n",
    "\n",
    "    for i in range(3):\n",
    "        i = 0\n",
    "        i =+ 1\n",
    "        valor_salario = float(input('Insira o valor do seu salário'))\n",
    "        valor_desconto = int(input('Insira o valor do seu desconto'))\n",
    "        salario_original.append(valor_salario)\n",
    "        desconto.append(valor_desconto)\n",
    "    \n",
    "    for k in range(len(salario_original)):\n",
    "        resultado = salario_original[k] - (salario_original[k] * (desconto[k]/ 100))\n",
    "        salario_descontado.append(resultado)\n",
    "    return salario_original, desconto, salario_descontado\n",
    "\n",
    "print(calcular_salario())"
   ]
  }
 ],
 "metadata": {
  "kernelspec": {
   "display_name": "base",
   "language": "python",
   "name": "python3"
  },
  "language_info": {
   "name": "python",
   "version": "3.11.5"
  }
 },
 "nbformat": 4,
 "nbformat_minor": 2
}

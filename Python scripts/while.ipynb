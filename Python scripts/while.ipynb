{
 "cells": [
  {
   "cell_type": "code",
   "execution_count": 1,
   "metadata": {},
   "outputs": [
    {
     "name": "stdout",
     "output_type": "stream",
     "text": [
      "Voce esta fora da faixa de idade para ter o desconto\n"
     ]
    }
   ],
   "source": [
    "idade = int(input(\"Insira sua idade\"))\n",
    "total_compra = float(input(\"insira o valor da sua compra\"))\n",
    "\n",
    "if idade >= 65:\n",
    "    if total_compra >= 100:\n",
    "        print(\"Voce tera 10% de desconto\")\n",
    "    else:\n",
    "        print(\"Voce nao tera diraito ao desconto, por causa do valor da compra\")\n",
    "else:\n",
    "    print(\"Voce esta fora da faixa de idade para ter o desconto\")"
   ]
  },
  {
   "cell_type": "code",
   "execution_count": 15,
   "metadata": {},
   "outputs": [
    {
     "name": "stdout",
     "output_type": "stream",
     "text": [
      "o carro e da volvo\n"
     ]
    }
   ],
   "source": [
    "idade_carro = int(input(\"insira a idade do carro:\"))\n",
    "\n",
    "if 2013 <= idade_carro <= 2015:\n",
    "    marca_carro = str(input(\"Qual a marca do carro?\"))\n",
    "    if marca_carro == 'volvo':\n",
    "        print(\"O carro e da volvo e esta dentro da faixa, pois foi fabricado em \", idade_carro)\n",
    "    else:\n",
    "        print(\"o carro e da volvo\")\n",
    "else:\n",
    "    print(\"Esta fora dos anos solicitados\")        "
   ]
  },
  {
   "cell_type": "code",
   "execution_count": 12,
   "metadata": {},
   "outputs": [
    {
     "name": "stdout",
     "output_type": "stream",
     "text": [
      "hora de tomar cafe da manha\n"
     ]
    }
   ],
   "source": [
    "horas = int(input(\"Diga que horas sao\"))\n",
    "\n",
    "\n",
    "if horas <= 6  <= 12:\n",
    "    temperatura = int(input(\"Diga qual a temperatura\"))\n",
    "    if temperatura >= 20:\n",
    "        print(\"hora de fazer caminhada no parque\")\n",
    "    else:\n",
    "        print(\"hora de tomar cafe da manha\")\n",
    "elif 12 < horas <=18:\n",
    "    temperatura = int(input(\"Diga qual a temperatura\"))\n",
    "    if temperatura > 25:\n",
    "        print(\"que tal um piquenique\")\n",
    "    else:\n",
    "        print(\"hora de almocar\")\n",
    "else:\n",
    "    print(\"hora de relaxar em casa\")\n"
   ]
  },
  {
   "cell_type": "code",
   "execution_count": 16,
   "metadata": {},
   "outputs": [
    {
     "name": "stdout",
     "output_type": "stream",
     "text": [
      "seu pedido esta sendo preparado para entrega expressa!\n"
     ]
    }
   ],
   "source": [
    "idade = int(input(\"Diga qual sua idade:\"))\n",
    "\n",
    "\n",
    "if 7 <= idade:\n",
    "    status = str(input(\"Diga qual seu status:\"))\n",
    "    if status >= \"VIP\":\n",
    "        print(\"seu pedido esta sendo preparado para entrega expressa!\")\n",
    "    else:\n",
    "        print(\"seu pedido sera entregue em breve\")\n",
    "elif 7 < idade <= 14:\n",
    "    status = str(input(\"Diga qual seu status:\"))\n",
    "    if status == \"VIP\":\n",
    "        print(\"seu pedido esta em processo de embalagem especial\")\n",
    "    else:\n",
    "        print(\"seu pedido esta sendo preparado\")\n",
    "else:\n",
    "    print(\"seu pedido esta a caminho\")"
   ]
  },
  {
   "cell_type": "code",
   "execution_count": 3,
   "metadata": {},
   "outputs": [
    {
     "name": "stdout",
     "output_type": "stream",
     "text": [
      "0\n",
      "1\n",
      "2\n",
      "3\n",
      "4\n",
      "5\n"
     ]
    }
   ],
   "source": [
    "i = 0\n",
    "\n",
    "while i <= 5:\n",
    "    print(i)\n",
    "    i += 1"
   ]
  },
  {
   "cell_type": "code",
   "execution_count": null,
   "metadata": {},
   "outputs": [],
   "source": [
    "resultado = 1\n",
    "numero = 0\n",
    "\n",
    "while numero < 5:\n",
    "    numero += 1\n",
    "    resultado *= numero\n",
    "print(resultado)"
   ]
  },
  {
   "cell_type": "code",
   "execution_count": 4,
   "metadata": {},
   "outputs": [
    {
     "name": "stdout",
     "output_type": "stream",
     "text": [
      "9\n",
      "8\n",
      "7\n",
      "6\n",
      "5\n",
      "4\n",
      "3\n",
      "2\n",
      "1\n",
      "0\n"
     ]
    }
   ],
   "source": [
    "contador = 10\n",
    "\n",
    "while contador > 0:\n",
    "    contador -= 1\n",
    "    print(contador)"
   ]
  },
  {
   "cell_type": "code",
   "execution_count": 1,
   "metadata": {},
   "outputs": [
    {
     "name": "stdout",
     "output_type": "stream",
     "text": [
      "5.0°F - -15.0°C\n",
      "5.0°F - -15.0°C\n",
      "5.0°F - -15.0°C\n",
      "5.0°F - -15.0°C\n",
      "5.0°F - -15.0°C\n",
      "5.0°F - -15.0°C\n",
      "5.0°F - -15.0°C\n",
      "5.0°F - -15.0°C\n",
      "5.0°F - -15.0°C\n"
     ]
    }
   ],
   "source": [
    "temp_celsius = 0\n",
    "temp_farenheit = float(input(\"insira um valor de temperatura\"))\n",
    "\n",
    "\n",
    "while temp_farenheit != 0:\n",
    "    temp_celsius = (5/9) * (temp_farenheit - 32)\n",
    "    print(f\"{temp_farenheit}°F - {temp_celsius}°C\")\n",
    "    temp_farenheit = float(input(\"insira um valor de temperatura\"))"
   ]
  },
  {
   "cell_type": "code",
   "execution_count": 17,
   "metadata": {},
   "outputs": [
    {
     "name": "stdout",
     "output_type": "stream",
     "text": [
      "1\n",
      "2\n",
      "3\n",
      "4\n",
      "5\n",
      "6\n",
      "7\n",
      "8\n",
      "9\n",
      "10\n",
      "11\n",
      "12\n",
      "13\n",
      "14\n",
      "15\n",
      "16\n",
      "17\n",
      "18\n",
      "19\n"
     ]
    }
   ],
   "source": [
    "numero = int(input(\"Insira um numero\"))\n",
    "contador = 0\n",
    "\n",
    "while contador < numero:\n",
    "    print(contador)\n",
    "    contador += 1\n"
   ]
  },
  {
   "cell_type": "code",
   "execution_count": 18,
   "metadata": {},
   "outputs": [
    {
     "name": "stdout",
     "output_type": "stream",
     "text": [
      "0\n",
      "1\n",
      "2\n",
      "3\n",
      "4\n",
      "5\n",
      "6\n",
      "7\n",
      "8\n",
      "9\n",
      "10\n",
      "9\n",
      "8\n",
      "7\n",
      "6\n",
      "5\n",
      "4\n",
      "3\n",
      "2\n",
      "1\n"
     ]
    }
   ],
   "source": [
    "contador = 0\n",
    "\n",
    "while contador < 10:\n",
    "    print(contador)\n",
    "    contador += 1\n",
    "\n",
    "while contador > 0:\n",
    "    print(contador)\n",
    "    contador -= 1"
   ]
  },
  {
   "cell_type": "code",
   "execution_count": 19,
   "metadata": {},
   "outputs": [
    {
     "name": "stdout",
     "output_type": "stream",
     "text": [
      "A quantidade de caracteres e 5\n"
     ]
    }
   ],
   "source": [
    "letra = str(input(\"digite uma palavra ou texto \"))\n",
    "\n",
    "print(\"A quantidade de caracteres e\", len(letra))"
   ]
  },
  {
   "cell_type": "code",
   "execution_count": 49,
   "metadata": {},
   "outputs": [
    {
     "name": "stdout",
     "output_type": "stream",
     "text": [
      "A letra A aparece,2 vezes na frase diego e muito daora\n"
     ]
    }
   ],
   "source": [
    "frase = input(\"digite uma frase\")\n",
    "\n",
    "contagem = 0\n",
    "indice = 0\n",
    "\n",
    "while indice < len(frase):\n",
    "    if frase[indice] == \"d\":\n",
    "        contagem += 1\n",
    "    indice += 1\n",
    "print(f\"A letra A aparece,{contagem} vezes na frase {frase}\")"
   ]
  },
  {
   "cell_type": "code",
   "execution_count": 56,
   "metadata": {},
   "outputs": [
    {
     "name": "stdout",
     "output_type": "stream",
     "text": [
      "o\n"
     ]
    }
   ],
   "source": [
    "# crie um programa para solicitar ao usuario um nome e traga apenas a ultima letra do nome.\n",
    "\n",
    "nome = input(\"digite seu nome\")\n",
    "\n",
    "ultima_letra = nome[len(nome)-1]\n",
    "print(ultima_letra)"
   ]
  },
  {
   "cell_type": "code",
   "execution_count": null,
   "metadata": {},
   "outputs": [],
   "source": [
    "numeros = [10, 5, 30]\n",
    "\n",
    "soma = 0\n",
    "indice = 0\n",
    "\n",
    "while indice <len(numeros):\n",
    "    soma += numeros[indice]\n",
    "    indice += 1\n",
    "media = soma / len(numeros)\n",
    "print(media)"
   ]
  },
  {
   "cell_type": "code",
   "execution_count": 3,
   "metadata": {},
   "outputs": [
    {
     "name": "stdout",
     "output_type": "stream",
     "text": [
      "A soma dos numeros de 1 a 3 é: 6\n"
     ]
    }
   ],
   "source": [
    "lista = [1,2,3]\n",
    "soma = 0\n",
    "\n",
    "for i in range(1,4):\n",
    "    soma += i \n",
    "print(\"A soma dos numeros de 1 a 3 é:\",soma)\n"
   ]
  },
  {
   "cell_type": "code",
   "execution_count": 9,
   "metadata": {},
   "outputs": [
    {
     "ename": "NameError",
     "evalue": "name 'soma' is not defined",
     "output_type": "error",
     "traceback": [
      "\u001b[1;31m---------------------------------------------------------------------------\u001b[0m",
      "\u001b[1;31mNameError\u001b[0m                                 Traceback (most recent call last)",
      "Cell \u001b[1;32mIn[9], line 4\u001b[0m\n\u001b[0;32m      1\u001b[0m sub \u001b[39m=\u001b[39m \u001b[39m0\u001b[39m\n\u001b[0;32m      3\u001b[0m \u001b[39mfor\u001b[39;00m i \u001b[39min\u001b[39;00m \u001b[39mrange\u001b[39m(\u001b[39m1\u001b[39m,\u001b[39m4\u001b[39m):\n\u001b[1;32m----> 4\u001b[0m     soma \u001b[39m+\u001b[39m\u001b[39m=\u001b[39m i\n\u001b[0;32m      5\u001b[0m     \u001b[39mprint\u001b[39m(i)\n\u001b[0;32m      7\u001b[0m sub \u001b[39m=\u001b[39m \u001b[39m0\u001b[39m\n",
      "\u001b[1;31mNameError\u001b[0m: name 'soma' is not defined"
     ]
    }
   ],
   "source": [
    "sub = 0\n",
    "\n",
    "for i in range(1,4):\n",
    "    soma += i\n",
    "    print(i)\n",
    "\n",
    "sub = 0\n",
    "i = 1\n",
    "\n",
    "sub = -1\n",
    "i = 2\n",
    "\n",
    "sub = -3\n",
    "i = 3"
   ]
  },
  {
   "cell_type": "code",
   "execution_count": 6,
   "metadata": {},
   "outputs": [
    {
     "name": "stdout",
     "output_type": "stream",
     "text": [
      "1\n",
      "2\n",
      "6\n"
     ]
    }
   ],
   "source": [
    "mult = 1\n",
    "\n",
    "for i in range(1,4):\n",
    "    mult *= i\n",
    "    print(mult)"
   ]
  },
  {
   "cell_type": "code",
   "execution_count": 4,
   "metadata": {},
   "outputs": [
    {
     "name": "stdout",
     "output_type": "stream",
     "text": [
      "1\n",
      "3\n",
      "5\n",
      "7\n",
      "9\n"
     ]
    }
   ],
   "source": [
    "\n",
    "for i in range(1,11,2):\n",
    "    print(i)"
   ]
  },
  {
   "cell_type": "code",
   "execution_count": 5,
   "metadata": {},
   "outputs": [
    {
     "name": "stdout",
     "output_type": "stream",
     "text": [
      "1\n",
      "2\n",
      "3\n",
      "4\n",
      "5\n"
     ]
    }
   ],
   "source": [
    "\n",
    "for i in range(1,11):\n",
    "    print(i)\n",
    "    if i == 5:\n",
    "        break"
   ]
  },
  {
   "cell_type": "code",
   "execution_count": 3,
   "metadata": {},
   "outputs": [
    {
     "name": "stdout",
     "output_type": "stream",
     "text": [
      "a\n",
      "b\n",
      "d\n",
      "e\n"
     ]
    }
   ],
   "source": [
    "listacar = ['a','b','c', 'd','e']\n",
    "\n",
    "for k in listacar:\n",
    "    if k == 'c':\n",
    "        continue\n",
    "    print(k)\n"
   ]
  },
  {
   "cell_type": "code",
   "execution_count": 1,
   "metadata": {},
   "outputs": [
    {
     "name": "stdout",
     "output_type": "stream",
     "text": [
      "1\n",
      "3\n",
      "5\n",
      "7\n",
      "9\n"
     ]
    }
   ],
   "source": [
    "for k in range(1,10):\n",
    "    if k %2 == 0:\n",
    "        continue\n",
    "    print(k)"
   ]
  },
  {
   "cell_type": "code",
   "execution_count": null,
   "metadata": {},
   "outputs": [],
   "source": [
    "\n",
    "\n",
    "\"\"\"\n",
    "Exercicio\n",
    "\n",
    "1. Crie uma estrutura para parar na letra a.\n",
    "2. Crie uma estrutura para nao mostrar as vogais o\n",
    "3. Crie uma estrutura para solicitar ao usuario um texto. Em seguida , crie uma estrutura para quebra/\n",
    "parar em uma palavra selecionada pelo usuario.\n",
    "4. Crie uma estrutura para solicitar ao usuarioum texto. Em seguida crie uma estrutura para nao\n",
    "morstrar uma palavra selecionada pelo usuario \n",
    "5. Crie um programa para solicitar 4 nomes, sobrenomes, cpfs e rg de quatro pesssoas\n",
    "\"\"\""
   ]
  },
  {
   "cell_type": "code",
   "execution_count": null,
   "metadata": {},
   "outputs": [],
   "source": [
    "# crie um programa para somar os valores de duas listas\n",
    "\n",
    "lista1 = [10,20,30]\n",
    "lista2 = [5,10,15]\n",
    "\n",
    "somar = [lista1[i] + lista2[i] for i in range(len(lista1))]\n",
    "somar"
   ]
  },
  {
   "cell_type": "code",
   "execution_count": 7,
   "metadata": {},
   "outputs": [
    {
     "name": "stdout",
     "output_type": "stream",
     "text": [
      "d\n",
      "c\n",
      "b\n"
     ]
    }
   ],
   "source": [
    "#EX:1\n",
    "\n",
    "lista = ['d','c','b','a']\n",
    "for i in lista:\n",
    "    if i == 'a':\n",
    "        break\n",
    "    print(i)\n"
   ]
  },
  {
   "cell_type": "code",
   "execution_count": 8,
   "metadata": {},
   "outputs": [
    {
     "name": "stdout",
     "output_type": "stream",
     "text": [
      "a\n",
      "e\n",
      "i\n",
      "u\n"
     ]
    }
   ],
   "source": [
    "#EX:2\n",
    "palavra = ['a','e','i','o','u']\n",
    "\n",
    "for i in palavra:\n",
    "    if i == 'o':\n",
    "        continue\n",
    "    print(i)"
   ]
  },
  {
   "cell_type": "code",
   "execution_count": 24,
   "metadata": {},
   "outputs": [
    {
     "name": "stdout",
     "output_type": "stream",
     "text": [
      "o\n",
      "rato\n",
      "roeu\n"
     ]
    }
   ],
   "source": [
    "#EX:3\n",
    "lista = ['o']\n",
    "lista.append('rato')\n",
    "lista.append('roeu')\n",
    "lista.append('a')\n",
    "lista.append('roupa')\n",
    "\n",
    "palavra = input(\"digite a palavra\")\n",
    "\n",
    "for i in lista:\n",
    "    print(i)\n",
    "    if i == palavra:\n",
    "        break \n",
    "    \n",
    "    "
   ]
  },
  {
   "cell_type": "code",
   "execution_count": 35,
   "metadata": {},
   "outputs": [
    {
     "name": "stdout",
     "output_type": "stream",
     "text": [
      "['oi', 'ola', 'sim']\n",
      "oi\n"
     ]
    }
   ],
   "source": [
    "# Ex:3\n",
    "\n",
    "palavras = []\n",
    "\n",
    "\n",
    "\n",
    "for i in range(3):\n",
    "    palavra = input(\"Digite a palavra\")\n",
    "    palavras.append(palavra)\n",
    "\n",
    "print(palavras)\n",
    "\n",
    "palavra_chave = input(\"digite sua palavra\")\n",
    "\n",
    "for k in palavras:\n",
    "    if k in palavra_chave:\n",
    "        break\n",
    "    print(k)\n",
    "        \n"
   ]
  },
  {
   "cell_type": "code",
   "execution_count": 36,
   "metadata": {},
   "outputs": [
    {
     "name": "stdout",
     "output_type": "stream",
     "text": [
      "['oi', 'ola', 'sim']\n",
      "oi\n",
      "sim\n"
     ]
    }
   ],
   "source": [
    "# EX:4\n",
    "palavras = []\n",
    "\n",
    "\n",
    "for i in range(3):\n",
    "    palavra = input(\"Digite a palavra\")\n",
    "    palavras.append(palavra)\n",
    "\n",
    "print(palavras)\n",
    "\n",
    "palavra_chave = input(\"digite sua palavra\")\n",
    "\n",
    "for k in palavras:\n",
    "    if k in palavra_chave:\n",
    "        continue\n",
    "    print(k)"
   ]
  },
  {
   "cell_type": "code",
   "execution_count": 39,
   "metadata": {},
   "outputs": [
    {
     "name": "stdout",
     "output_type": "stream",
     "text": [
      "Prazer,['diego', 'joao', 'vitor', 'pedro']\n",
      "Seu sobrenome é['costa', 'vitor', 'oliveira', 'ferrari']\n",
      "Seu cpf é[11111, 22222, 333333, 44444]\n",
      "seu rg é[111111, 22222, 33333, 44444]\n"
     ]
    }
   ],
   "source": [
    "# EX:5\n",
    "\n",
    "nomes = []\n",
    "sobrenomes = []\n",
    "cpfs = []\n",
    "rgs = []\n",
    "\n",
    "for i in range(4):\n",
    "    nome = input(\"digite seu nome\")\n",
    "    sobrenome = input(\"digite seu sobrenome\")\n",
    "    cpf = int(input(\"digite seu cpf\"))\n",
    "    rg = int(input(\"digite seu rg\"))\n",
    "    nomes.append(nome)\n",
    "    sobrenomes.append(sobrenome)\n",
    "    cpfs.append(cpf)\n",
    "    rgs.append(rg)\n",
    "print(f\"Prazer,{nomes}\")\n",
    "print(f\"Seu sobrenome é{sobrenomes}\")\n",
    "print(f\"Seu cpf é{cpfs}\")\n",
    "print(f\"seu rg é{rgs}\")"
   ]
  },
  {
   "cell_type": "code",
   "execution_count": 23,
   "metadata": {},
   "outputs": [],
   "source": [
    "# estrutura com append\n",
    "\n",
    "palavras = ['hoje', 'é','dia','de','happy']\n",
    "\n",
    "palavras.append('hour')\n",
    "palavras\n",
    "\n",
    "texto = \" \".join(palavras)"
   ]
  },
  {
   "cell_type": "code",
   "execution_count": null,
   "metadata": {},
   "outputs": [],
   "source": [
    "texto = \" \".join(palavras)\n",
    "texto"
   ]
  },
  {
   "cell_type": "code",
   "execution_count": 25,
   "metadata": {},
   "outputs": [],
   "source": [
    "cidades = []\n",
    "\n",
    "cidade = input(\"Digite a primeira cidade\")\n",
    "\n",
    "cidades.append('cidade')\n",
    "\n",
    "cidades.append(input(\"digite a segunda cidade\"))\n",
    "cidades.append(input(\"digite a terceira cidade\"))"
   ]
  },
  {
   "cell_type": "code",
   "execution_count": 42,
   "metadata": {},
   "outputs": [
    {
     "name": "stdout",
     "output_type": "stream",
     "text": [
      "A media sera 9.0\n",
      "A media sera 9.5\n",
      "A media sera 9.0\n"
     ]
    }
   ],
   "source": [
    "# Calcular a media entre duas notas solicitadas 3 vezes a nota 1 e 2\n",
    "#teste\n",
    "for i in range(3):\n",
    "    nota1 = float(input(\"digite a primeira\"))\n",
    "    nota2 = float(input(\"digite a segunda\"))\n",
    "    media = (nota1 + nota2)/ 2\n",
    "    print(f'A media sera {media}')    "
   ]
  },
  {
   "cell_type": "code",
   "execution_count": null,
   "metadata": {},
   "outputs": [],
   "source": [
    "variavel = []\n",
    "\n",
    "cidade = input(\"Digite a primeira cidade\")\n",
    "\n",
    "\n",
    "\n",
    "texto = \" \".join(palavras)\n",
    "texto"
   ]
  }
 ],
 "metadata": {
  "kernelspec": {
   "display_name": "Python 3",
   "language": "python",
   "name": "python3"
  },
  "language_info": {
   "codemirror_mode": {
    "name": "ipython",
    "version": 3
   },
   "file_extension": ".py",
   "mimetype": "text/x-python",
   "name": "python",
   "nbconvert_exporter": "python",
   "pygments_lexer": "ipython3",
   "version": "3.11.4"
  },
  "orig_nbformat": 4
 },
 "nbformat": 4,
 "nbformat_minor": 2
}

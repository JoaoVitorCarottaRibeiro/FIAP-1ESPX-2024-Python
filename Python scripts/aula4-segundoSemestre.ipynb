{
 "cells": [
  {
   "cell_type": "code",
   "execution_count": 1,
   "metadata": {},
   "outputs": [],
   "source": [
    "import pandas as pd"
   ]
  },
  {
   "cell_type": "code",
   "execution_count": 2,
   "metadata": {},
   "outputs": [],
   "source": [
    "import numpy as np"
   ]
  },
  {
   "cell_type": "code",
   "execution_count": null,
   "metadata": {},
   "outputs": [],
   "source": [
    "lista_carro = []\n",
    "\n",
    "for carro in range(5):\n",
    "    carros = input('Digite o nome de um carro')\n",
    "    lista_carro.append(carros)\n",
    "    print(lista_carro)"
   ]
  },
  {
   "cell_type": "code",
   "execution_count": null,
   "metadata": {},
   "outputs": [],
   "source": [
    "# Crie uma estrutura com função a qual solicite 5 números para um usuário. Após isso, crie uma nova função para calcular a soma dos valores inseridos na lista. Crie uma função para retornar a média dos valores na lista\n",
    "\n",
    "lista_valor = []\n",
    "\n",
    "def input_valores():\n",
    "    for valor in range(5):\n",
    "        valores = float(input('Digite os valores:'))\n",
    "        lista_valor.append(valores)\n",
    "    return lista_valor\n",
    "\n",
    "def soma(lista_valor):\n",
    "    valor_soma = sum(lista_valor)\n",
    "    valor_media = sum(lista_valor) / len(lista_valor)\n",
    "    return valor_soma, valor_media\n",
    "\n",
    "# def media(lista_valor):\n",
    "#     valor_media1 = sum(lista_valor) / len(lista_valor)\n",
    "#     return valor_media1\n",
    "\n",
    "print(soma(input_valores()))\n",
    "    "
   ]
  },
  {
   "cell_type": "code",
   "execution_count": null,
   "metadata": {},
   "outputs": [],
   "source": [
    "# Estrutura de repetição com while, true e try\n",
    "\n",
    "celsius_lista = []\n",
    "\n",
    "while True:\n",
    "    entrada = input('Digite a temperatura em Fahrenheit:')\n",
    "    \n",
    "    if entrada.lower() == 'sair':\n",
    "        break\n",
    "    \n",
    "    try:\n",
    "        fahrenheit = float(entrada)\n",
    "        celsius = (fahrenheit - 32) * 5 / 9\n",
    "        celsius_lista.append(celsius)\n",
    "        print(celsius_lista)\n",
    "        \n",
    "    except valueError:\n",
    "        print('Valor Inválido')\n",
    "        "
   ]
  },
  {
   "cell_type": "code",
   "execution_count": null,
   "metadata": {},
   "outputs": [],
   "source": [
    "import pandas as pd\n",
    "\n",
    "dados = {\n",
    "    'Nome': ['Joao','Maria','Pedro','Ana','Marcos'],\n",
    "    'Idade': [25,30,35,40,34],\n",
    "    'Salário': [5000,6000,7000,8000,5500]\n",
    "}\n",
    "\n",
    "df = pd.DataFrame(dados)\n",
    "\n",
    "df"
   ]
  },
  {
   "cell_type": "code",
   "execution_count": null,
   "metadata": {},
   "outputs": [],
   "source": [
    "i = 0\n",
    "while i < len(df):\n",
    "    print('Nome',df['Nome'][i],'Idade',df['idade'][i])\n",
    "    i += 1"
   ]
  },
  {
   "cell_type": "code",
   "execution_count": null,
   "metadata": {},
   "outputs": [],
   "source": [
    "for k in df['Salário']:\n",
    "    print(k)"
   ]
  },
  {
   "cell_type": "code",
   "execution_count": null,
   "metadata": {},
   "outputs": [],
   "source": [
    "for k in df.select_dtypes(include= ['int','float']):\n",
    "    media = df[k].mean()\n",
    "    print('Média de',k,'é',media)"
   ]
  },
  {
   "cell_type": "code",
   "execution_count": null,
   "metadata": {},
   "outputs": [],
   "source": [
    "df\n",
    "\n",
    "soma_salarios = 0\n",
    "i = 0\n",
    "contador = 0\n",
    "\n",
    "while i < len(df):\n",
    "    soma_salarios += df['Salário'][i]\n",
    "    media_salarios = soma_salarios / contador\n",
    "    contador += 1\n",
    "\n",
    "if media_salarios > 6000:\n",
    "    break\n",
    "\n",
    "i += 1\n",
    "\n",
    "print(media_salarios)"
   ]
  },
  {
   "cell_type": "code",
   "execution_count": null,
   "metadata": {},
   "outputs": [],
   "source": [
    "def calcula_bonus(salario):\n",
    "    aumento = salario * 0.1\n",
    "    return aumento\n",
    "\n",
    "bonus = []\n",
    "\n",
    "for indice, linha in df.iterrows():\n",
    "    bonus.append(calcula_bonus(df['Salário']))\n",
    "\n",
    "print('Bônus calculado é:', bonus)"
   ]
  }
 ],
 "metadata": {
  "kernelspec": {
   "display_name": "base",
   "language": "python",
   "name": "python3"
  },
  "language_info": {
   "codemirror_mode": {
    "name": "ipython",
    "version": 3
   },
   "file_extension": ".py",
   "mimetype": "text/x-python",
   "name": "python",
   "nbconvert_exporter": "python",
   "pygments_lexer": "ipython3",
   "version": "3.11.5"
  }
 },
 "nbformat": 4,
 "nbformat_minor": 2
}

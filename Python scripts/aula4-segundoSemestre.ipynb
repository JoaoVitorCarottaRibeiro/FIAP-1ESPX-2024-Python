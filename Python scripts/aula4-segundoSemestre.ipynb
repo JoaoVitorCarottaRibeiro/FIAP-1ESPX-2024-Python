{
 "cells": [
  {
   "cell_type": "code",
   "execution_count": 5,
   "metadata": {},
   "outputs": [
    {
     "name": "stdout",
     "output_type": "stream",
     "text": [
      "6\n",
      "3.0\n"
     ]
    }
   ],
   "source": [
    "#Função chama função\n",
    "\n",
    "def soma(a, b):\n",
    "    'Função soma'\n",
    "    soma = a + b\n",
    "    return soma\n",
    "\n",
    "def media(a, b):\n",
    "    'Função média'\n",
    "    media = soma(a, b)/2\n",
    "    return media\n",
    "\n",
    "print(soma(2, 4))\n",
    "print(media(2, 4))"
   ]
  },
  {
   "cell_type": "code",
   "execution_count": null,
   "metadata": {},
   "outputs": [],
   "source": [
    "# Função para retornar a soma de um quadrado\n",
    "\n",
    "def eleva_quadrado():\n",
    "    'Função eleva ao quadrado'\n",
    "    y = x**2\n",
    "    return y\n",
    "\n",
    "def soma_quadrado(a, b, c, d, e):\n",
    "    'Função que soma os números'\n",
    "    x = eleva_quadrado(a)\n",
    "    y = eleva_quadrado(b)\n",
    "    z = eleva_quadrado(c)\n",
    "    w = eleva_quadrado(d)\n",
    "\n",
    "    soma = x + y + z + w\n",
    "\n",
    "    return soma\n",
    "\n",
    "soma_quadrado(5, 10, 15, 20, 25)\n"
   ]
  },
  {
   "cell_type": "code",
   "execution_count": 10,
   "metadata": {},
   "outputs": [
    {
     "name": "stdout",
     "output_type": "stream",
     "text": [
      "A area do triangulo é:  200.0\n"
     ]
    }
   ],
   "source": [
    "# Função para calcular a área de um triangulo\n",
    "\n",
    "def area(comprimento, largura):\n",
    "    'Função que calcula a área de um triangulo'\n",
    "    area_ret = comprimento * largura\n",
    "\n",
    "    return area_ret\n",
    "\n",
    "def mostra_area():\n",
    "    'Função para mostrar o resultado'\n",
    "    print('A area do triangulo é: ', ar)\n",
    "\n",
    "l = float(input('Digite a largura'))\n",
    "c = float(input('Digite o comprimento'))\n",
    "\n",
    "ar = area(l, c)\n",
    "mostra_area()"
   ]
  },
  {
   "cell_type": "code",
   "execution_count": 16,
   "metadata": {},
   "outputs": [
    {
     "name": "stdout",
     "output_type": "stream",
     "text": [
      "A area 113.09733552923255 é grande\n"
     ]
    }
   ],
   "source": [
    "# Função para calcular a area de um circulo e retornar as seguintes informações:\n",
    "\n",
    "# a) area > 100 - area grande\n",
    "# b) area = 50 - area media\n",
    "# c) area < 50 - area pequena\n",
    "\n",
    "\n",
    "import math\n",
    "\n",
    "def area(raio):\n",
    "    'Função que realiza o cálculo da área do circulo'\n",
    "    area_cir = math.pi * (raio**2)\n",
    "\n",
    "    return area_cir\n",
    "\n",
    "def mostrar_resultado():\n",
    "    if ar > 100:\n",
    "        print(f'A area {ar:.2f} é grande')\n",
    "    elif ar == 50:\n",
    "        print(f'A area {ar:.2f} é media')\n",
    "    else:\n",
    "        print(f'A area {ar:.2f} é pequena')\n",
    "\n",
    "raio = float(input('Digite o valor do raio'))\n",
    "\n",
    "ar = area(raio)\n",
    "mostrar_resultado()"
   ]
  },
  {
   "cell_type": "code",
   "execution_count": null,
   "metadata": {},
   "outputs": [],
   "source": [
    "def multiplicado(a, b):\n",
    "    mult = a * b\n",
    "\n",
    "    return mult\n",
    "\n",
    "def multiplicador_lista(lista1, lista2):\n",
    "    produtos = []\n",
    "\n",
    "    for i in range(len(lista1)):\n",
    "        produtos.append(multiplica(lista1[i] * lista2[i]))\n",
    "        return produtos\n",
    "\n",
    "listaA = [1, 2, 3, 4]\n",
    "listaB = [5, 6, 7, 8]\n",
    " \n",
    "resultado = multiplicador_lista(listaA, listaB)\n",
    "print(resultado)"
   ]
  },
  {
   "cell_type": "code",
   "execution_count": null,
   "metadata": {},
   "outputs": [],
   "source": [
    "# Crie uma calculadora de média solicitando o numero para o usuario até que ele digite 'fim'. Crie uma função para solicitar a informação para o usuário (numeros), em seguida, crie outra função para apresentar a média\n",
    "\n",
    "def solicitar_numeros():\n",
    "    \"\"\"Solicita números ao usuário e retorna uma lista de números.\"\"\"\n",
    "    numeros = []\n",
    "    while True:\n",
    "        entrada = input(\"Digite um número ou 'fim' para terminar: \")\n",
    "        if entrada.lower() == 'fim':\n",
    "            break\n",
    "        if validar_numero(entrada):\n",
    "            numeros.append(float(entrada))\n",
    "        else:\n",
    "            print(\"Entrada inválida. Por favor, digite um número válido ou 'fim'.\")\n",
    "    return numeros\n",
    "\n",
    "def validar_numero(entrada):\n",
    "    \"\"\"Valida se a entrada pode ser convertida para um número float.\"\"\"\n",
    "    if entrada.count('.') > 1:\n",
    "        return False\n",
    "    partes = entrada.split('.')\n",
    "    if len(partes) > 2:\n",
    "        return False\n",
    "    for parte in partes:\n",
    "        if not parte.isdigit() and parte != '':\n",
    "            return False\n",
    "    return True\n",
    "\n",
    "def calcular_media(numeros):\n",
    "    \"\"\"Calcula e imprime a média dos números fornecidos.\"\"\"\n",
    "    if len(numeros) == 0:\n",
    "        print(\"Nenhum número foi fornecido.\")\n",
    "        return\n",
    "    media = sum(numeros) / len(numeros)\n",
    "    print(f\"A média dos números é: {media:.2f}\")\n",
    "\n",
    "# Programa principal\n",
    "numeros = solicitar_numeros()\n",
    "calcular_media(numeros)"
   ]
  },
  {
   "cell_type": "code",
   "execution_count": null,
   "metadata": {},
   "outputs": [],
   "source": []
  }
 ],
 "metadata": {
  "kernelspec": {
   "display_name": "Python 3",
   "language": "python",
   "name": "python3"
  },
  "language_info": {
   "codemirror_mode": {
    "name": "ipython",
    "version": 3
   },
   "file_extension": ".py",
   "mimetype": "text/x-python",
   "name": "python",
   "nbconvert_exporter": "python",
   "pygments_lexer": "ipython3",
   "version": "3.12.3"
  }
 },
 "nbformat": 4,
 "nbformat_minor": 2
}

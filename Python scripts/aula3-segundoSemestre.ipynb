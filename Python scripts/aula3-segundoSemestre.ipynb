{
 "cells": [
  {
   "cell_type": "code",
   "execution_count": 5,
   "metadata": {},
   "outputs": [],
   "source": [
    "import numpy as np"
   ]
  },
  {
   "cell_type": "code",
   "execution_count": 6,
   "metadata": {},
   "outputs": [
    {
     "data": {
      "text/plain": [
       "array([10, 20, 30, 40, 50])"
      ]
     },
     "execution_count": 6,
     "metadata": {},
     "output_type": "execute_result"
    }
   ],
   "source": [
    "vetor = np.array([10, 20, 30, 40, 50])\n",
    "vetor"
   ]
  },
  {
   "cell_type": "code",
   "execution_count": 7,
   "metadata": {},
   "outputs": [
    {
     "name": "stdout",
     "output_type": "stream",
     "text": [
      "[[10 20]\n",
      " [ 4  5]]\n"
     ]
    }
   ],
   "source": [
    "matriz2d = np.array([[10, 20], [4, 5]])\n",
    "print(matriz2d)"
   ]
  },
  {
   "cell_type": "code",
   "execution_count": 8,
   "metadata": {},
   "outputs": [
    {
     "name": "stdout",
     "output_type": "stream",
     "text": [
      "[[10 20 30]\n",
      " [ 4  5  6]]\n"
     ]
    }
   ],
   "source": [
    "matriz2d = np.array([[10, 20, 30], [4, 5, 6]])\n",
    "print(matriz2d)"
   ]
  },
  {
   "cell_type": "code",
   "execution_count": 2,
   "metadata": {},
   "outputs": [],
   "source": [
    "import pandas as pd\n"
   ]
  },
  {
   "cell_type": "code",
   "execution_count": 3,
   "metadata": {},
   "outputs": [
    {
     "name": "stdout",
     "output_type": "stream",
     "text": [
      "0    11\n",
      "1    22\n",
      "2    33\n",
      "3    44\n",
      "4    55\n",
      "dtype: int64\n",
      "0     9\n",
      "1    18\n",
      "2    27\n",
      "3    36\n",
      "4    45\n",
      "dtype: int64\n",
      "0     10\n",
      "1     40\n",
      "2     90\n",
      "3    160\n",
      "4    250\n",
      "dtype: int64\n",
      "0    10.0\n",
      "1    10.0\n",
      "2    10.0\n",
      "3    10.0\n",
      "4    10.0\n",
      "dtype: float64\n"
     ]
    }
   ],
   "source": [
    "# Estrutura unidimensional com pandas series:\n",
    "\n",
    "s1 = pd.Series([10, 20, 30, 40, 50], name=\"Serie 1\")\n",
    "s2 = pd.Series([1, 2, 3, 4, 5], name=\"Serie 2\")\n",
    "\n",
    "s_soma = s1 + s2\n",
    "s_sub = s1 - s2\n",
    "s_mult = s1 * s2\n",
    "s_div = s1 / s2\n",
    "\n",
    "print(s_soma)\n",
    "print(s_sub)\n",
    "print(s_mult)\n",
    "print(s_div)\n"
   ]
  },
  {
   "cell_type": "code",
   "execution_count": 4,
   "metadata": {},
   "outputs": [
    {
     "data": {
      "text/html": [
       "<div>\n",
       "<style scoped>\n",
       "    .dataframe tbody tr th:only-of-type {\n",
       "        vertical-align: middle;\n",
       "    }\n",
       "\n",
       "    .dataframe tbody tr th {\n",
       "        vertical-align: top;\n",
       "    }\n",
       "\n",
       "    .dataframe thead th {\n",
       "        text-align: right;\n",
       "    }\n",
       "</style>\n",
       "<table border=\"1\" class=\"dataframe\">\n",
       "  <thead>\n",
       "    <tr style=\"text-align: right;\">\n",
       "      <th></th>\n",
       "      <th>Serie 1</th>\n",
       "      <th>Serie 2</th>\n",
       "    </tr>\n",
       "  </thead>\n",
       "  <tbody>\n",
       "    <tr>\n",
       "      <th>0</th>\n",
       "      <td>10</td>\n",
       "      <td>1</td>\n",
       "    </tr>\n",
       "    <tr>\n",
       "      <th>1</th>\n",
       "      <td>20</td>\n",
       "      <td>2</td>\n",
       "    </tr>\n",
       "    <tr>\n",
       "      <th>2</th>\n",
       "      <td>30</td>\n",
       "      <td>3</td>\n",
       "    </tr>\n",
       "    <tr>\n",
       "      <th>3</th>\n",
       "      <td>40</td>\n",
       "      <td>4</td>\n",
       "    </tr>\n",
       "    <tr>\n",
       "      <th>4</th>\n",
       "      <td>50</td>\n",
       "      <td>5</td>\n",
       "    </tr>\n",
       "  </tbody>\n",
       "</table>\n",
       "</div>"
      ],
      "text/plain": [
       "   Serie 1  Serie 2\n",
       "0       10        1\n",
       "1       20        2\n",
       "2       30        3\n",
       "3       40        4\n",
       "4       50        5"
      ]
     },
     "execution_count": 4,
     "metadata": {},
     "output_type": "execute_result"
    }
   ],
   "source": [
    "df = pd.DataFrame({'Serie 1': s1, 'Serie 2': s2})\n",
    "df"
   ]
  },
  {
   "cell_type": "code",
   "execution_count": 9,
   "metadata": {},
   "outputs": [
    {
     "data": {
      "text/html": [
       "<div>\n",
       "<style scoped>\n",
       "    .dataframe tbody tr th:only-of-type {\n",
       "        vertical-align: middle;\n",
       "    }\n",
       "\n",
       "    .dataframe tbody tr th {\n",
       "        vertical-align: top;\n",
       "    }\n",
       "\n",
       "    .dataframe thead th {\n",
       "        text-align: right;\n",
       "    }\n",
       "</style>\n",
       "<table border=\"1\" class=\"dataframe\">\n",
       "  <thead>\n",
       "    <tr style=\"text-align: right;\">\n",
       "      <th></th>\n",
       "      <th>Serie 1</th>\n",
       "      <th>Serie 2</th>\n",
       "      <th>Soma</th>\n",
       "      <th>Subtracao</th>\n",
       "    </tr>\n",
       "  </thead>\n",
       "  <tbody>\n",
       "    <tr>\n",
       "      <th>0</th>\n",
       "      <td>10</td>\n",
       "      <td>1</td>\n",
       "      <td>11</td>\n",
       "      <td>9</td>\n",
       "    </tr>\n",
       "    <tr>\n",
       "      <th>1</th>\n",
       "      <td>20</td>\n",
       "      <td>2</td>\n",
       "      <td>22</td>\n",
       "      <td>18</td>\n",
       "    </tr>\n",
       "    <tr>\n",
       "      <th>2</th>\n",
       "      <td>30</td>\n",
       "      <td>3</td>\n",
       "      <td>33</td>\n",
       "      <td>27</td>\n",
       "    </tr>\n",
       "    <tr>\n",
       "      <th>3</th>\n",
       "      <td>40</td>\n",
       "      <td>4</td>\n",
       "      <td>44</td>\n",
       "      <td>36</td>\n",
       "    </tr>\n",
       "    <tr>\n",
       "      <th>4</th>\n",
       "      <td>50</td>\n",
       "      <td>5</td>\n",
       "      <td>55</td>\n",
       "      <td>45</td>\n",
       "    </tr>\n",
       "  </tbody>\n",
       "</table>\n",
       "</div>"
      ],
      "text/plain": [
       "   Serie 1  Serie 2  Soma  Subtracao\n",
       "0       10        1    11          9\n",
       "1       20        2    22         18\n",
       "2       30        3    33         27\n",
       "3       40        4    44         36\n",
       "4       50        5    55         45"
      ]
     },
     "execution_count": 9,
     "metadata": {},
     "output_type": "execute_result"
    }
   ],
   "source": [
    "df['Soma'] = df['Serie 1'] + df['Serie 2']\n",
    "df['Subtracao'] = df['Serie 1'] - df['Serie 2']\n",
    "df"
   ]
  },
  {
   "cell_type": "code",
   "execution_count": 10,
   "metadata": {},
   "outputs": [
    {
     "data": {
      "text/html": [
       "<div>\n",
       "<style scoped>\n",
       "    .dataframe tbody tr th:only-of-type {\n",
       "        vertical-align: middle;\n",
       "    }\n",
       "\n",
       "    .dataframe tbody tr th {\n",
       "        vertical-align: top;\n",
       "    }\n",
       "\n",
       "    .dataframe thead th {\n",
       "        text-align: right;\n",
       "    }\n",
       "</style>\n",
       "<table border=\"1\" class=\"dataframe\">\n",
       "  <thead>\n",
       "    <tr style=\"text-align: right;\">\n",
       "      <th></th>\n",
       "      <th>Serie 1</th>\n",
       "      <th>Serie 2</th>\n",
       "      <th>Serie 3</th>\n",
       "    </tr>\n",
       "  </thead>\n",
       "  <tbody>\n",
       "    <tr>\n",
       "      <th>0</th>\n",
       "      <td>10</td>\n",
       "      <td>1</td>\n",
       "      <td>A</td>\n",
       "    </tr>\n",
       "    <tr>\n",
       "      <th>1</th>\n",
       "      <td>20</td>\n",
       "      <td>2</td>\n",
       "      <td>B</td>\n",
       "    </tr>\n",
       "    <tr>\n",
       "      <th>2</th>\n",
       "      <td>30</td>\n",
       "      <td>3</td>\n",
       "      <td>C</td>\n",
       "    </tr>\n",
       "    <tr>\n",
       "      <th>3</th>\n",
       "      <td>40</td>\n",
       "      <td>4</td>\n",
       "      <td>B</td>\n",
       "    </tr>\n",
       "    <tr>\n",
       "      <th>4</th>\n",
       "      <td>50</td>\n",
       "      <td>5</td>\n",
       "      <td>A</td>\n",
       "    </tr>\n",
       "  </tbody>\n",
       "</table>\n",
       "</div>"
      ],
      "text/plain": [
       "   Serie 1  Serie 2 Serie 3\n",
       "0       10        1       A\n",
       "1       20        2       B\n",
       "2       30        3       C\n",
       "3       40        4       B\n",
       "4       50        5       A"
      ]
     },
     "execution_count": 10,
     "metadata": {},
     "output_type": "execute_result"
    }
   ],
   "source": [
    "s1 = pd.Series([10, 20, 30, 40, 50], name=\"Serie 1\")\n",
    "s2 = pd.Series([1, 2, 3, 4, 5], name=\"Serie 2\")\n",
    "s3 = pd.Series(['A', 'B', 'C', 'B', 'A' ], name=\"Serie 3\")\n",
    "\n",
    "df = pd.DataFrame({'Serie 1': s1, 'Serie 2': s2, 'Serie 3': s3})\n",
    "df"
   ]
  },
  {
   "cell_type": "code",
   "execution_count": null,
   "metadata": {},
   "outputs": [],
   "source": [
    "df.groupby('Serie 3')['soma'].max() # maximo\n",
    "df.groupby('Serie 3')['soma'].min() # mínimo\n",
    "df.groupby('Serie 3')['soma'].mean() # média\n",
    "df.groupby('Serie 3')['soma'].median() # mediana\n",
    "df.groupby('Serie 3')['soma'].std() # desvio padrão\n"
   ]
  },
  {
   "cell_type": "code",
   "execution_count": 13,
   "metadata": {},
   "outputs": [
    {
     "name": "stdout",
     "output_type": "stream",
     "text": [
      "0     1\n",
      "1     2\n",
      "2     3\n",
      "3     4\n",
      "4     5\n",
      "5     6\n",
      "6     7\n",
      "7     8\n",
      "8     9\n",
      "9    10\n",
      "dtype: int64\n"
     ]
    }
   ],
   "source": [
    "# 1) Crie um pandas Series contendo números de 1 a 10\n",
    "\n",
    "s1 = pd.Series(range(1,11))\n",
    "print(s1)"
   ]
  },
  {
   "cell_type": "code",
   "execution_count": 14,
   "metadata": {},
   "outputs": [
    {
     "data": {
      "text/plain": [
       "3"
      ]
     },
     "execution_count": 14,
     "metadata": {},
     "output_type": "execute_result"
    }
   ],
   "source": [
    "# 2) Acesse o Terceiro elemento de uma Pandas Series e imprima seu valor\n",
    "\n",
    "s1[2]"
   ]
  },
  {
   "cell_type": "code",
   "execution_count": 15,
   "metadata": {},
   "outputs": [
    {
     "name": "stdout",
     "output_type": "stream",
     "text": [
      "0     7\n",
      "1     9\n",
      "2    11\n",
      "3    13\n",
      "4    15\n",
      "dtype: int64\n"
     ]
    }
   ],
   "source": [
    "# 3) Some duas Pandas Series contendo os números de 1 a 5 e os números de 6 a 10 respectivamente\n",
    "\n",
    "s1 = pd.Series(range(1,6))\n",
    "s2 = pd.Series(range(6,11))\n",
    "\n",
    "soma = s1 + s2\n",
    "print(soma)"
   ]
  },
  {
   "cell_type": "code",
   "execution_count": 16,
   "metadata": {},
   "outputs": [
    {
     "name": "stdout",
     "output_type": "stream",
     "text": [
      "5\n",
      "6\n",
      "7\n",
      "8\n",
      "9\n",
      "10\n"
     ]
    }
   ],
   "source": [
    "# 4) Crie uma Pandas Series contendo os números de 1 a 10 e exiba apenas os valores maiores que 5.\n",
    "\n",
    "s3 = pd.Series(range(1,11))\n",
    "\n",
    "for s in s3:\n",
    "    if s >= 5:\n",
    "        print(s)\n",
    "\n",
    "# ou --> s3[s3>5]"
   ]
  },
  {
   "cell_type": "code",
   "execution_count": null,
   "metadata": {},
   "outputs": [],
   "source": [
    "# 5) Calcule a media e o desvio padrão de uma Pandas Series contendo os números de 1 a 10\n",
    "\n",
    "s4 = pd.Series(range(1,11))\n",
    "media = s4.mean()\n",
    "print(f'A média é: {media}')\n",
    "\n",
    "desvio_padrao = s4.std()\n",
    "print(f'O desvio padrão é: {desvio_padrao}')"
   ]
  },
  {
   "cell_type": "code",
   "execution_count": null,
   "metadata": {},
   "outputs": [],
   "source": [
    "# 6) Concatene duas Pandas Series contendo números de 1 a 5 e 6 a 10, respectivamente, em uma única series\n",
    "\n",
    "s5 = pd.Series(range(1,6))\n",
    "s6 = pd.Series(range(6,11))\n",
    "\n",
    "serie_concatenada = pd.concat([s5,s6], axis=1)\n",
    "print(serie_concatenada)"
   ]
  },
  {
   "cell_type": "code",
   "execution_count": null,
   "metadata": {},
   "outputs": [],
   "source": [
    "# 7) Subtraia uma Pandas Series contendo os números de 1 a 10 por uma outra Series contendo os números de 10 a 1\n",
    "\n",
    "s10 = pd.Series(range(1,11))\n",
    "s11 = pd.Series(range(10,0,-1))\n",
    "\n",
    "sub = s10- s11\n",
    "print(sub)"
   ]
  },
  {
   "cell_type": "code",
   "execution_count": null,
   "metadata": {},
   "outputs": [],
   "source": [
    "# 8) Ordene uma Pandas Series contendo os números de 1 a 10 em ordem crescente\n",
    "\n",
    "s12 = pd.Series(range(1,11))\n",
    "s12.sort_values(ascending= False)"
   ]
  },
  {
   "cell_type": "code",
   "execution_count": 17,
   "metadata": {},
   "outputs": [
    {
     "data": {
      "text/plain": [
       "0    False\n",
       "1    False\n",
       "2     True\n",
       "3    False\n",
       "4    False\n",
       "5    False\n",
       "6     True\n",
       "Name: Serie 1, dtype: bool"
      ]
     },
     "execution_count": 17,
     "metadata": {},
     "output_type": "execute_result"
    }
   ],
   "source": [
    "# 9) Verifique se o pandas Series possui valores iguais\n",
    "\n",
    "s1 = pd.Series([10,20,20,30,40,50,50], name = 'Serie 1')\n",
    "s1.duplicated()"
   ]
  }
 ],
 "metadata": {
  "kernelspec": {
   "display_name": "base",
   "language": "python",
   "name": "python3"
  },
  "language_info": {
   "codemirror_mode": {
    "name": "ipython",
    "version": 3
   },
   "file_extension": ".py",
   "mimetype": "text/x-python",
   "name": "python",
   "nbconvert_exporter": "python",
   "pygments_lexer": "ipython3",
   "version": "3.11.5"
  }
 },
 "nbformat": 4,
 "nbformat_minor": 2
}

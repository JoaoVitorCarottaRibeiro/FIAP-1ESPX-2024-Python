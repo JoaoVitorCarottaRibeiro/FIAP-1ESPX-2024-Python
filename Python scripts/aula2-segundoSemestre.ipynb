{
 "cells": [
  {
   "cell_type": "code",
   "execution_count": 3,
   "metadata": {},
   "outputs": [
    {
     "name": "stdout",
     "output_type": "stream",
     "text": [
      "1\n",
      "2\n",
      "3\n",
      "4\n"
     ]
    }
   ],
   "source": [
    "tupla = (1, 2, 3, 4)\n",
    "\n",
    "for i in tupla:\n",
    "    print(i)"
   ]
  },
  {
   "cell_type": "code",
   "execution_count": 5,
   "metadata": {},
   "outputs": [
    {
     "name": "stdout",
     "output_type": "stream",
     "text": [
      "6\n",
      "7\n"
     ]
    }
   ],
   "source": [
    "tupla_tupla = (4, 5, 6), (7, 8)\n",
    "print(tupla_tupla[0][2])\n",
    "print(tupla_tupla[1][0])\n"
   ]
  },
  {
   "cell_type": "code",
   "execution_count": 7,
   "metadata": {},
   "outputs": [
    {
     "name": "stdout",
     "output_type": "stream",
     "text": [
      "4\n",
      "5\n",
      "6\n",
      "7\n",
      "8\n"
     ]
    }
   ],
   "source": [
    "for i in tupla_tupla:\n",
    "    for k in i:\n",
    "        print(k)"
   ]
  },
  {
   "cell_type": "code",
   "execution_count": 8,
   "metadata": {},
   "outputs": [
    {
     "name": "stdout",
     "output_type": "stream",
     "text": [
      "('s', 't', 'r', 'i', 'n', 'g')\n"
     ]
    }
   ],
   "source": [
    "tupla = tuple(\"string\")\n",
    "print(tupla)"
   ]
  },
  {
   "cell_type": "code",
   "execution_count": 9,
   "metadata": {},
   "outputs": [
    {
     "name": "stdout",
     "output_type": "stream",
     "text": [
      "('foo', [1, 2, 3], True)\n"
     ]
    }
   ],
   "source": [
    "tupla = tuple(['foo', [1, 2, 3], True])\n",
    "print(tupla)"
   ]
  },
  {
   "cell_type": "code",
   "execution_count": 10,
   "metadata": {},
   "outputs": [
    {
     "name": "stdout",
     "output_type": "stream",
     "text": [
      "('foo', [1, 2, 3, 4], True)\n"
     ]
    }
   ],
   "source": [
    "tupla[1].append(4)\n",
    "print(tupla)"
   ]
  },
  {
   "cell_type": "code",
   "execution_count": 12,
   "metadata": {},
   "outputs": [
    {
     "name": "stdout",
     "output_type": "stream",
     "text": [
      "('foo', [1, 2, 3], True)\n",
      "['foo', [1, 2, 3], True]\n",
      "['fiap', 'foo', [1, 2, 3], True]\n"
     ]
    }
   ],
   "source": [
    "tupla = tuple(['foo', [1, 2, 3], True])\n",
    "print(tupla)\n",
    "\n",
    "lista = list(tupla)\n",
    "print(lista)\n",
    "\n",
    "\n",
    "lista.insert(0, 'fiap')\n",
    "print(lista)"
   ]
  },
  {
   "cell_type": "code",
   "execution_count": 13,
   "metadata": {},
   "outputs": [
    {
     "name": "stdout",
     "output_type": "stream",
     "text": [
      "('foo', [1, 2, 3], True)\n",
      "['foo', [1, 2, 3], True]\n",
      "('foo', 'foo fighters', [1, 2, 3], True)\n"
     ]
    }
   ],
   "source": [
    "tupla = tuple(['foo', [1, 2, 3], True])\n",
    "print(tupla)\n",
    "\n",
    "lista = list(tupla)\n",
    "print(lista)\n",
    "\n",
    "posicao_insercao = lista.index('foo') + 1\n",
    "lista.insert(posicao_insercao, 'foo fighters')\n",
    "\n",
    "tupla_nova = tuple(lista)\n",
    "print(tupla_nova)"
   ]
  },
  {
   "cell_type": "code",
   "execution_count": 14,
   "metadata": {},
   "outputs": [
    {
     "data": {
      "text/plain": [
       "(4, None, 'foo', 6, 0, 'fiap', 1)"
      ]
     },
     "execution_count": 14,
     "metadata": {},
     "output_type": "execute_result"
    }
   ],
   "source": [
    "(4, None, 'foo') + (6, 0) + ('fiap', 1)"
   ]
  },
  {
   "cell_type": "code",
   "execution_count": 15,
   "metadata": {},
   "outputs": [
    {
     "data": {
      "text/plain": [
       "(4, None, 'foo', 4, None, 'foo', 4, None, 'foo', 4, None, 'foo')"
      ]
     },
     "execution_count": 15,
     "metadata": {},
     "output_type": "execute_result"
    }
   ],
   "source": [
    "(4, None, 'foo') * 4"
   ]
  },
  {
   "cell_type": "code",
   "execution_count": 17,
   "metadata": {},
   "outputs": [
    {
     "data": {
      "text/plain": [
       "(35.0, 70)"
      ]
     },
     "execution_count": 17,
     "metadata": {},
     "output_type": "execute_result"
    }
   ],
   "source": [
    "def nome_funcao():\n",
    "    a = (20 + 50)/ 2\n",
    "    b = (20 + 50)\n",
    "    return a, b\n",
    "nome_funcao()"
   ]
  },
  {
   "cell_type": "code",
   "execution_count": 19,
   "metadata": {},
   "outputs": [
    {
     "name": "stdout",
     "output_type": "stream",
     "text": [
      "banana\n"
     ]
    }
   ],
   "source": [
    "# 1) Crie uma tupla chamada frutas com os seguinte itens: \"maçã\", \"banana\", \"laranja\", \"uva\"\n",
    "\n",
    "frutas = (\"maçã\", \"banana\", \"laranja\", \"uva\")\n",
    "\n"
   ]
  },
  {
   "cell_type": "code",
   "execution_count": null,
   "metadata": {},
   "outputs": [],
   "source": [
    "# 2) Acesse o segundo elemento da tupla frutas\n",
    "\n",
    "frutas = (\"maçã\", \"banana\", \"laranja\", \"uva\")\n",
    "print(frutas[1])"
   ]
  },
  {
   "cell_type": "code",
   "execution_count": 26,
   "metadata": {},
   "outputs": [
    {
     "name": "stdout",
     "output_type": "stream",
     "text": [
      "['maçã', 'banana', 'uva']\n",
      "('maçã', 'banana', 'manga', 'uva')\n"
     ]
    }
   ],
   "source": [
    "# 3) Substitua o terceiro elemento da tupla frutas por \"manga\", e armazene a tupla modificada em uma nova variável chamada frutas_modificadas\n",
    "\n",
    "frutas = (\"maçã\", \"banana\", \"laranja\", \"uva\")\n",
    "lista = list(frutas)\n",
    "lista.remove(\"laranja\")\n",
    "print(lista)\n",
    "\n",
    "posicao_insercao = lista.index(\"banana\") + 1\n",
    "lista.insert(posicao_insercao, \"manga\")\n",
    "\n",
    "frutas_modificadas = tuple(lista)\n",
    "print(frutas_modificadas)\n"
   ]
  },
  {
   "cell_type": "code",
   "execution_count": 29,
   "metadata": {},
   "outputs": [
    {
     "name": "stdout",
     "output_type": "stream",
     "text": [
      "('maçã', 'banana', 'manga', 'uva', 'abacaxi', 'limao')\n"
     ]
    }
   ],
   "source": [
    "# 4) Concatene a tupla frutas_modificadas com a tupla (\"abacaxi, \"limão\") e armazene o resultado em uma nova tupla chamada frutas_concatenadas\n",
    "\n",
    "tupla2 = ('abacaxi', 'limao')\n",
    "\n",
    "frutas_concatenadas = frutas_modificadas + tupla2\n",
    "print(frutas_concatenadas)\n"
   ]
  },
  {
   "cell_type": "code",
   "execution_count": 31,
   "metadata": {},
   "outputs": [
    {
     "name": "stdout",
     "output_type": "stream",
     "text": [
      "O elemento uva esta apresdenta na tupla\n"
     ]
    }
   ],
   "source": [
    "# 5) Verifique se elemento \"uva\" esta presente na tuplas frutas_concatenadas\n",
    "\n",
    "if \"uva\" in frutas_concatenadas:\n",
    "    print('O elemento uva esta apresdenta na tupla')\n",
    "else:\n",
    "    print('O elemento uva nao esta presente na tupla')"
   ]
  },
  {
   "cell_type": "code",
   "execution_count": 63,
   "metadata": {},
   "outputs": [
    {
     "name": "stdout",
     "output_type": "stream",
     "text": [
      "Laura 87.66666666666667\n",
      "Paulo 67.66666666666667\n",
      "Ana 79.33333333333333\n",
      "Jose 80.66666666666667\n"
     ]
    }
   ],
   "source": [
    "# 6) Crie um algoritimo para calcular a média dos alunos abaixo. Utilize estrutura de repetição e tuplas\n",
    "lista_aluno = [(\"Laura\", 85, 90, 88),\n",
    "(\"Paulo\", 60, 75, 68),\n",
    "(\"Ana\", 68, 80, 90),\n",
    "(\"Jose\", 80, 90, 72)]\n",
    "\n",
    "for nota in lista_aluno:\n",
    "    nome, nota1, nota2, nota3 = nota\n",
    "    medias = (nota1 + nota2 + nota3)/3\n",
    "    print(nome, medias)"
   ]
  },
  {
   "cell_type": "code",
   "execution_count": 66,
   "metadata": {},
   "outputs": [
    {
     "name": "stdout",
     "output_type": "stream",
     "text": [
      "Viagens 54800\n",
      "Restaurantes 795\n",
      "Transporte 269\n"
     ]
    }
   ],
   "source": [
    "# 7) Crie um programa para analise de despesas. Utilize estrutura de repetição e tuplas.\n",
    "\n",
    "# Viagens: 5000, 15000, 25000, 9800\n",
    "# Restaurantes: 230, 100, 50, 415\n",
    "# Transporte: 50, 15, 89, 115\n",
    "\n",
    "despesas = [(\"Viagens\", 5000, 15000, 25000, 9800),\n",
    "(\"Restaurantes\", 230, 100, 50, 415),\n",
    "(\"Transporte\", 50, 15, 89, 115)]\n",
    "\n",
    "for precos in despesas:\n",
    "    programa, preco1, preco2, preco3, preco4 = precos\n",
    "    soma_total = (preco1 + preco2 + preco3 + preco4)\n",
    "    print(programa, soma_total)"
   ]
  },
  {
   "cell_type": "code",
   "execution_count": 71,
   "metadata": {},
   "outputs": [
    {
     "name": "stdout",
     "output_type": "stream",
     "text": [
      "O senhor dos aneis - J. R. R. Tolkien\n",
      "O Hobbit - J. R. R. Tolkien\n",
      "Harry Potter - J.K Rowling\n"
     ]
    }
   ],
   "source": [
    "# 8) Crie um programa para catagolação de livros. Utilize a estrutura de repetição e tuplas.\n",
    "\n",
    "livros = [('O senhor dos aneis', 'J. R. R. Tolkien'),\n",
    "('O Hobbit', 'J. R. R. Tolkien'),\n",
    "('Harry Potter', 'J.K Rowling')]\n",
    "\n",
    "for livro in livros:\n",
    "    nome, nome_autor = livro\n",
    "    catalogo = nome + \" \" + \"-\" + \" \" + nome_autor\n",
    "    print(catalogo)"
   ]
  },
  {
   "cell_type": "code",
   "execution_count": 72,
   "metadata": {},
   "outputs": [
    {
     "name": "stdout",
     "output_type": "stream",
     "text": [
      "[{'nome': 'Alice', 'Idade': 40}, {'nome': 'Bob', 'Idade': 37}, {'nome': 'Chris', 'Idade': 33}]\n"
     ]
    }
   ],
   "source": [
    "estudantes = [\n",
    "    {'nome': 'Alice', 'Idade': 40},\n",
    "    {'nome': 'Bob', 'Idade': 37},\n",
    "    {'nome': 'Chris', 'Idade': 33}\n",
    "]\n",
    "\n",
    "print(estudantes)"
   ]
  },
  {
   "cell_type": "code",
   "execution_count": 74,
   "metadata": {},
   "outputs": [
    {
     "data": {
      "text/html": [
       "<div>\n",
       "<style scoped>\n",
       "    .dataframe tbody tr th:only-of-type {\n",
       "        vertical-align: middle;\n",
       "    }\n",
       "\n",
       "    .dataframe tbody tr th {\n",
       "        vertical-align: top;\n",
       "    }\n",
       "\n",
       "    .dataframe thead th {\n",
       "        text-align: right;\n",
       "    }\n",
       "</style>\n",
       "<table border=\"1\" class=\"dataframe\">\n",
       "  <thead>\n",
       "    <tr style=\"text-align: right;\">\n",
       "      <th></th>\n",
       "      <th>nome</th>\n",
       "      <th>Idade</th>\n",
       "    </tr>\n",
       "  </thead>\n",
       "  <tbody>\n",
       "    <tr>\n",
       "      <th>0</th>\n",
       "      <td>Alice</td>\n",
       "      <td>40</td>\n",
       "    </tr>\n",
       "    <tr>\n",
       "      <th>1</th>\n",
       "      <td>Bob</td>\n",
       "      <td>37</td>\n",
       "    </tr>\n",
       "    <tr>\n",
       "      <th>2</th>\n",
       "      <td>Chris</td>\n",
       "      <td>33</td>\n",
       "    </tr>\n",
       "  </tbody>\n",
       "</table>\n",
       "</div>"
      ],
      "text/plain": [
       "    nome  Idade\n",
       "0  Alice     40\n",
       "1    Bob     37\n",
       "2  Chris     33"
      ]
     },
     "execution_count": 74,
     "metadata": {},
     "output_type": "execute_result"
    }
   ],
   "source": [
    "import pandas as pd\n",
    "\n",
    "dados = pd.DataFrame(estudantes)\n",
    "dados"
   ]
  },
  {
   "cell_type": "code",
   "execution_count": null,
   "metadata": {},
   "outputs": [],
   "source": []
  }
 ],
 "metadata": {
  "kernelspec": {
   "display_name": "Python 3",
   "language": "python",
   "name": "python3"
  },
  "language_info": {
   "codemirror_mode": {
    "name": "ipython",
    "version": 3
   },
   "file_extension": ".py",
   "mimetype": "text/x-python",
   "name": "python",
   "nbconvert_exporter": "python",
   "pygments_lexer": "ipython3",
   "version": "3.12.3"
  }
 },
 "nbformat": 4,
 "nbformat_minor": 2
}

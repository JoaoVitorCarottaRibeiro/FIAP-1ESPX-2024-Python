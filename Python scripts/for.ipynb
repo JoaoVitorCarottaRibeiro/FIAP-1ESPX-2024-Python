{
 "cells": [
  {
   "cell_type": "code",
   "execution_count": null,
   "metadata": {},
   "outputs": [],
   "source": [
    "soma = 0\n",
    "\n",
    "lista =[1,2,3,4,5]\n",
    "\n",
    "for i in range(1,6):\n",
    "    soma += i \n",
    "print(soma)\n",
    "\n",
    "\n"
   ]
  },
  {
   "cell_type": "code",
   "execution_count": 2,
   "metadata": {},
   "outputs": [
    {
     "data": {
      "text/plain": [
       "[2, 4, 6, 8, 10]"
      ]
     },
     "execution_count": 2,
     "metadata": {},
     "output_type": "execute_result"
    }
   ],
   "source": [
    "lista_original = [1,2,3,4,5]\n",
    "nova_lista = []\n",
    "\n",
    "for k in lista_original:\n",
    "    nova_lista.append(k*2)\n",
    "nova_lista\n"
   ]
  },
  {
   "cell_type": "code",
   "execution_count": 14,
   "metadata": {},
   "outputs": [
    {
     "name": "stdout",
     "output_type": "stream",
     "text": [
      "['1', '1', '1']\n"
     ]
    }
   ],
   "source": [
    "#Crie um programa para solicitar nomes e inseri os respectivos nomes em uma lista\n",
    "\n",
    "\n",
    "lista_nomes = []\n",
    "\n",
    "for i in range(3):\n",
    "    nome = input(\"Digite nomes\")\n",
    "    lista_nomes.append(nome)\n",
    "print(lista_nomes)\n",
    "\n",
    "\n",
    "\n",
    "\n",
    "#Outro jeito:"
   ]
  },
  {
   "cell_type": "code",
   "execution_count": 13,
   "metadata": {},
   "outputs": [
    {
     "data": {
      "text/plain": [
       "['diego', 'jao', 'pedro', 'vitao', 'arthur']"
      ]
     },
     "execution_count": 13,
     "metadata": {},
     "output_type": "execute_result"
    }
   ],
   "source": [
    "lista_nomes = []\n",
    "\n",
    "limite = int(input(\"digite o limite\"))\n",
    "for i in range(limite):\n",
    "    nome = str(input(\"digite um nome\"))\n",
    "    lista_nomes.append(nome)\n",
    "lista_nomes"
   ]
  },
  {
   "cell_type": "code",
   "execution_count": 15,
   "metadata": {},
   "outputs": [
    {
     "name": "stdout",
     "output_type": "stream",
     "text": [
      "['diego', 'jao', 'artu', 'vitAO']\n"
     ]
    }
   ],
   "source": [
    "lista_nomes = []\n",
    "contador = 0\n",
    "while contador < 4:\n",
    "    nome = input(\"digite um nome\")\n",
    "    lista_nomes.append(nome)\n",
    "    contador += 1\n",
    "\n",
    "print(lista_nomes)"
   ]
  },
  {
   "cell_type": "code",
   "execution_count": null,
   "metadata": {},
   "outputs": [],
   "source": [
    "palavras = ['python', 'javascript']\n",
    "\n",
    "for i in palavras:\n",
    "    for letra in i:\n",
    "        print(letra)"
   ]
  },
  {
   "cell_type": "code",
   "execution_count": 21,
   "metadata": {},
   "outputs": [
    {
     "name": "stdout",
     "output_type": "stream",
     "text": [
      "1 2 3 4 2 4 6 8 3 6 9 12 4 8 12 16 "
     ]
    }
   ],
   "source": [
    "for i in range(1, 5):\n",
    "    for k in range(1, 5):\n",
    "        print(i*k, end = \" \")\n",
    "\n"
   ]
  },
  {
   "cell_type": "code",
   "execution_count": null,
   "metadata": {},
   "outputs": [],
   "source": [
    "#Exercicio\n",
    "#1.Crie um programa que simule uma tabuada apenas em multiplicacao\n",
    "#2.Crie um programa que simule uma tabuada apenas de multiplicacao e insira em uma lista chamada lista_mult\n",
    "#3.Crie um programa que simule as quatro operacoes (soma,subtracao,multi e divisao).\n",
    "#4.Crie um programa que simule as quatro operacoes (soma,subtracao,multi e divisao) e insira isso em quatro listas"
   ]
  },
  {
   "cell_type": "code",
   "execution_count": 37,
   "metadata": {},
   "outputs": [
    {
     "name": "stdout",
     "output_type": "stream",
     "text": [
      "2.0 4.0 8.0 16.0 32.0 64.0 128.0 256.0 512.0 1024.0 "
     ]
    }
   ],
   "source": [
    "#1.Crie um programa que simule uma tabuada apenas em multiplicacao\n",
    "for i in range(1, 5):\n",
    "    for k in range(1, 5):\n",
    "        print(i*k, end = \" \")\n",
    "\n",
    "\n"
   ]
  },
  {
   "cell_type": "code",
   "execution_count": 36,
   "metadata": {},
   "outputs": [
    {
     "name": "stdout",
     "output_type": "stream",
     "text": [
      "2.0 4.0 6.0 8.0 10.0 12.0 14.0 16.0 18.0 20.0 "
     ]
    }
   ],
   "source": [
    "#2.Crie um programa que simule uma tabuada apenas de multiplicacao e insira em uma lista chamada lista_mult\n",
    "lista_mult = []\n",
    "for i in range(1,11):\n",
    "    for k in range(1,11):\n",
    "        lista_mult.append(i*k)"
   ]
  },
  {
   "cell_type": "code",
   "execution_count": null,
   "metadata": {},
   "outputs": [],
   "source": [
    "#3.Crie um programa que simule as quatro operacoes (soma,subtracao,multi e divisao).\n",
    "for i in range(1,11):\n",
    "    print(i*k, end = \" \")\n",
    "    print(i/k, end = \" \")\n",
    "    print(i+k, end = \" \")\n",
    "    print(i-k, end = \" \")"
   ]
  },
  {
   "cell_type": "code",
   "execution_count": null,
   "metadata": {},
   "outputs": [],
   "source": [
    "#4.Crie um programa que simule as quatro operacoes (soma,subtracao,multi e divisao) e insira isso em quatro listas\n",
    "\n",
    "lista_mult = []\n",
    "lista_div = []\n",
    "lista_soma = []\n",
    "lista_sub = []\n",
    "\n",
    "for i in range(1,11):\n",
    "    for k in range(1,11):\n",
    "        lista_mult.append(i*k)\n",
    "        lista_div.append(i/k)\n",
    "        lista_soma.append(i+k)\n",
    "        lista_sub.append(i-k)"
   ]
  },
  {
   "cell_type": "code",
   "execution_count": 41,
   "metadata": {},
   "outputs": [],
   "source": [
    "#5.Criar uma terceira lista com a soma dos elementos da lista 1 e lista 2.\n",
    "\n",
    "lista1 = [1,2,3,4]\n",
    "lista2 = [5,6,7,8]\n",
    "\n",
    "lista_soma = []\n",
    "\n",
    "for k in range(len(lista1)):\n",
    "    lista_soma.append(lista1[k] + lista2[k])\n",
    "\n"
   ]
  },
  {
   "cell_type": "code",
   "execution_count": 38,
   "metadata": {},
   "outputs": [
    {
     "name": "stdout",
     "output_type": "stream",
     "text": [
      "2 * 1 = 2\n",
      "3 * 1 = 3\n",
      "3 * 2 = 6\n"
     ]
    }
   ],
   "source": [
    "for i in range (1,4):\n",
    "    for k in range(1,4):\n",
    "        if i == k:\n",
    "            break\n",
    "        print(i, \"*\",k, \"=\", i*k)"
   ]
  },
  {
   "cell_type": "code",
   "execution_count": 39,
   "metadata": {},
   "outputs": [
    {
     "name": "stdout",
     "output_type": "stream",
     "text": [
      "a1\n",
      "a2\n",
      "a3\n",
      "b1\n",
      "b2\n",
      "b3\n",
      "c1\n",
      "c2\n",
      "c3\n"
     ]
    }
   ],
   "source": [
    "for i in \"abc\":\n",
    "    for k in \"123\":\n",
    "        print(i+k)"
   ]
  },
  {
   "cell_type": "code",
   "execution_count": null,
   "metadata": {},
   "outputs": [],
   "source": []
  }
 ],
 "metadata": {
  "kernelspec": {
   "display_name": "Python 3",
   "language": "python",
   "name": "python3"
  },
  "language_info": {
   "codemirror_mode": {
    "name": "ipython",
    "version": 3
   },
   "file_extension": ".py",
   "mimetype": "text/x-python",
   "name": "python",
   "nbconvert_exporter": "python",
   "pygments_lexer": "ipython3",
   "version": "3.11.4"
  },
  "orig_nbformat": 4
 },
 "nbformat": 4,
 "nbformat_minor": 2
}

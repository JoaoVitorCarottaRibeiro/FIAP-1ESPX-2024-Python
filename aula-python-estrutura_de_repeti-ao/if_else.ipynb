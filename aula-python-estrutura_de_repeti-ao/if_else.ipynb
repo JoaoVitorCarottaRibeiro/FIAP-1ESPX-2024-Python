{
 "cells": [
  {
   "cell_type": "code",
   "execution_count": 1,
   "metadata": {},
   "outputs": [
    {
     "name": "stdout",
     "output_type": "stream",
     "text": [
      "Voce esta fora da faixa de idade para ter o desconto\n"
     ]
    }
   ],
   "source": [
    "idade = int(input(\"Insira sua idade\"))\n",
    "total_compra = float(input(\"insira o valor da sua compra\"))\n",
    "\n",
    "if idade >= 65:\n",
    "    if total_compra >= 100:\n",
    "        print(\"Voce tera 10% de desconto\")\n",
    "    else:\n",
    "        print(\"Voce nao tera diraito ao desconto, por causa do valor da compra\")\n",
    "else:\n",
    "    print(\"Voce esta fora da faixa de idade para ter o desconto\")"
   ]
  },
  {
   "cell_type": "code",
   "execution_count": 15,
   "metadata": {},
   "outputs": [
    {
     "name": "stdout",
     "output_type": "stream",
     "text": [
      "o carro e da volvo\n"
     ]
    }
   ],
   "source": [
    "idade_carro = int(input(\"insira a idade do carro:\"))\n",
    "\n",
    "if 2013 <= idade_carro <= 2015:\n",
    "    marca_carro = str(input(\"Qual a marca do carro?\"))\n",
    "    if marca_carro == 'volvo':\n",
    "        print(\"O carro e da volvo e esta dentro da faixa, pois foi fabricado em \", idade_carro)\n",
    "    else:\n",
    "        print(\"o carro e da volvo\")\n",
    "else:\n",
    "    print(\"Esta fora dos anos solicitados\")        "
   ]
  },
  {
   "cell_type": "code",
   "execution_count": 12,
   "metadata": {},
   "outputs": [
    {
     "name": "stdout",
     "output_type": "stream",
     "text": [
      "hora de tomar cafe da manha\n"
     ]
    }
   ],
   "source": [
    "horas = int(input(\"Diga que horas sao\"))\n",
    "\n",
    "\n",
    "if horas <= 6  <= 12:\n",
    "    temperatura = int(input(\"Diga qual a temperatura\"))\n",
    "    if temperatura >= 20:\n",
    "        print(\"hora de fazer caminhada no parque\")\n",
    "    else:\n",
    "        print(\"hora de tomar cafe da manha\")\n",
    "elif 12 < horas <=18:\n",
    "    temperatura = int(input(\"Diga qual a temperatura\"))\n",
    "    if temperatura > 25:\n",
    "        print(\"que tal um piquenique\")\n",
    "    else:\n",
    "        print(\"hora de almocar\")\n",
    "else:\n",
    "    print(\"hora de relaxar em casa\")\n"
   ]
  },
  {
   "cell_type": "code",
   "execution_count": 16,
   "metadata": {},
   "outputs": [
    {
     "name": "stdout",
     "output_type": "stream",
     "text": [
      "seu pedido esta sendo preparado para entrega expressa!\n"
     ]
    }
   ],
   "source": [
    "idade = int(input(\"Diga qual sua idade:\"))\n",
    "\n",
    "\n",
    "if 7 <= idade:\n",
    "    status = str(input(\"Diga qual seu status:\"))\n",
    "    if status >= \"VIP\":\n",
    "        print(\"seu pedido esta sendo preparado para entrega expressa!\")\n",
    "    else:\n",
    "        print(\"seu pedido sera entregue em breve\")\n",
    "elif 7 < idade <= 14:\n",
    "    status = str(input(\"Diga qual seu status:\"))\n",
    "    if status == \"VIP\":\n",
    "        print(\"seu pedido esta em processo de embalagem especial\")\n",
    "    else:\n",
    "        print(\"seu pedido esta sendo preparado\")\n",
    "else:\n",
    "    print(\"seu pedido esta a caminho\")"
   ]
  },
  {
   "cell_type": "code",
   "execution_count": 18,
   "metadata": {},
   "outputs": [
    {
     "name": "stdout",
     "output_type": "stream",
     "text": [
      "1\n",
      "2\n",
      "3\n",
      "4\n",
      "5\n"
     ]
    }
   ],
   "source": [
    "i = 1\n",
    "\n",
    "while i <= 5:\n",
    "    print(i)\n",
    "    i += 1"
   ]
  },
  {
   "cell_type": "code",
   "execution_count": null,
   "metadata": {},
   "outputs": [],
   "source": []
  }
 ],
 "metadata": {
  "kernelspec": {
   "display_name": "Python 3",
   "language": "python",
   "name": "python3"
  },
  "language_info": {
   "codemirror_mode": {
    "name": "ipython",
    "version": 3
   },
   "file_extension": ".py",
   "mimetype": "text/x-python",
   "name": "python",
   "nbconvert_exporter": "python",
   "pygments_lexer": "ipython3",
   "version": "3.11.4"
  },
  "orig_nbformat": 4
 },
 "nbformat": 4,
 "nbformat_minor": 2
}
